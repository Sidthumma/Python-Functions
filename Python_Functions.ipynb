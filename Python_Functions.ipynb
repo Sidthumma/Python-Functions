{
  "nbformat": 4,
  "nbformat_minor": 0,
  "metadata": {
    "colab": {
      "provenance": []
    },
    "kernelspec": {
      "name": "python3",
      "display_name": "Python 3"
    },
    "language_info": {
      "name": "python"
    }
  },
  "cells": [
    {
      "cell_type": "markdown",
      "source": [
        "Python-Functions Assignment\n"
      ],
      "metadata": {
        "id": "ob_xPPYD5WIR"
      }
    },
    {
      "cell_type": "markdown",
      "source": [
        "1. What is the difference between a function and a method in Python\n",
        "-> A function is a block of reusable code defined using def, while a method is a function that belongs to an object (class instance) and is called using object.method(). Methods often operate on the object’s data, while functions are more general-purpose.\n",
        "\n",
        "2. Explain the concept of function arguments and parameters in Python\n",
        "-> Parameters are the variables listed in a function’s definition, while arguments are the actual values passed to the function when calling it. In def greet(name):, name is a parameter, and in greet(\"Alice\"), \"Alice\" is an argument.\n",
        "\n",
        "3. What are the different ways to define and call a function in Python\n",
        "-> Functions can be defined using def, lambda, or built-in functions. They can be called by passing arguments directly, using keyword arguments, or unpacking lists/tuples (*args) and dictionaries (**kwargs).\n",
        "\n",
        "4. What is the purpose of the `return` statement in a Python function\n",
        "-> The return statement sends back a value from a function to the caller. If return is omitted, the function returns None by default. It allows functions to produce reusable results instead of just printing output.\n",
        "\n",
        "5. What are iterators in Python and how do they differ from iterables\n",
        "-> An iterable is an object that can be looped over (like lists, tuples, or strings), while an iterator is an object with __iter__() and __next__() methods that produce values one at a time. Iterators do not store all values in memory, making them more efficient.\n",
        "\n",
        "6. Explain the concept of generators in Python and how they are defined\n",
        "-> Generators are a special type of iterator created using the yield keyword inside a function. They generate values lazily, meaning they produce one value at a time instead of storing all results in memory, which improves performance.\n",
        "\n",
        "7. What are the advantages of using generators over regular functions\n",
        "-> They save memory by yielding values one by one instead of storing them all at once. They also improve performance for large datasets and allow for cleaner, more readable code compared to manual iterator implementation.\n",
        "\n",
        "8. What is a lambda function in Python and when is it typically used\n",
        "-> A lambda function is an anonymous, single-expression function written as lambda x: x * 2. It’s used for short, throwaway functions, often in functional programming with map(), filter(), and sorted().\n",
        "\n",
        "9. Explain the purpose and usage of the `map()` function in Python\n",
        "-> The map() function applies a given function to all items in an iterable and returns a map object (iterator). For example, map(lambda x: x * 2, [1, 2, 3]) returns [2, 4, 6] (after converting to a list).\n",
        "\n",
        "10. What is the difference between `map()`, `reduce()`, and `filter()` functions in Python\n",
        "-> map() applies a function to each item and returns transformed values.\n",
        "filter() selects items that satisfy a condition.\n",
        "reduce() (from functools) reduces a sequence to a single value using an accumulator function.\n",
        "\n",
        "\n"
      ],
      "metadata": {
        "id": "hA3JHPoM59bn"
      }
    },
    {
      "cell_type": "code",
      "execution_count": 1,
      "metadata": {
        "colab": {
          "base_uri": "https://localhost:8080/"
        },
        "id": "caQQ7cPS5Sa9",
        "outputId": "67e573bb-ea33-4bb3-edf3-d90d0822a108"
      },
      "outputs": [
        {
          "output_type": "stream",
          "name": "stdout",
          "text": [
            "12\n",
            "olleh\n",
            "[1, 4, 9, 16]\n",
            "[2, 3, 5, 7, 11, 13, 17, 19, 23, 29, 31, 37, 41, 43, 47, 53, 59, 61, 67, 71, 73, 79, 83, 89, 97, 101, 103, 107, 109, 113, 127, 131, 137, 139, 149, 151, 157, 163, 167, 173, 179, 181, 191, 193, 197, 199]\n",
            "[0, 1, 1, 2, 3, 5, 8, 13, 21, 34]\n",
            "[1, 2, 4, 8, 16, 32]\n",
            "[(3, 1), (4, 2), (1, 3), (2, 5)]\n",
            "[32.0, 68.0, 98.6, 212.0]\n",
            "Hll Wrld\n",
            "[(34587, 163.8), (98762, 284.0), (77226, 108.85000000000001), (88111, 84.97)]\n"
          ]
        }
      ],
      "source": [
        "# 1. Function to sum all even numbers in a list\n",
        "def sum_even_numbers(lst):\n",
        "    return sum(num for num in lst if num % 2 == 0)\n",
        "\n",
        "print(sum_even_numbers([1, 2, 3, 4, 5, 6]))  # Output: 12\n",
        "\n",
        "\n",
        "# 2. Function to reverse a string\n",
        "def reverse_string(s):\n",
        "    return s[::-1]\n",
        "\n",
        "print(reverse_string(\"hello\"))  # Output: \"olleh\"\n",
        "\n",
        "\n",
        "# 3. Function to return squares of each number in a list\n",
        "def square_numbers(lst):\n",
        "    return [num ** 2 for num in lst]\n",
        "\n",
        "print(square_numbers([1, 2, 3, 4]))  # Output: [1, 4, 9, 16]\n",
        "\n",
        "\n",
        "# 4. Function to check if a number is prime from 1 to 200\n",
        "def is_prime(n):\n",
        "    if n < 2:\n",
        "        return False\n",
        "    for i in range(2, int(n ** 0.5) + 1):\n",
        "        if n % i == 0:\n",
        "            return False\n",
        "    return True\n",
        "\n",
        "primes = [num for num in range(1, 201) if is_prime(num)]\n",
        "print(primes)  # Output: List of prime numbers from 1 to 200\n",
        "\n",
        "\n",
        "# 5. Iterator class for Fibonacci sequence\n",
        "class FibonacciIterator:\n",
        "    def __init__(self, terms):\n",
        "        self.terms = terms\n",
        "        self.a, self.b = 0, 1\n",
        "        self.count = 0\n",
        "\n",
        "    def __iter__(self):\n",
        "        return self\n",
        "\n",
        "    def __next__(self):\n",
        "        if self.count < self.terms:\n",
        "            result = self.a\n",
        "            self.a, self.b = self.b, self.a + self.b\n",
        "            self.count += 1\n",
        "            return result\n",
        "        else:\n",
        "            raise StopIteration\n",
        "\n",
        "fib = FibonacciIterator(10)\n",
        "print(list(fib))  # Output: First 10 Fibonacci numbers\n",
        "\n",
        "\n",
        "# 6. Generator function yielding powers of 2\n",
        "def power_of_two(n):\n",
        "    for i in range(n + 1):\n",
        "        yield 2 ** i\n",
        "\n",
        "print(list(power_of_two(5)))  # Output: [1, 2, 4, 8, 16, 32]\n",
        "\n",
        "\n",
        "# 7. Generator to read a file line by line\n",
        "def read_file_lines(filename):\n",
        "    with open(filename, 'r') as file:\n",
        "        for line in file:\n",
        "            yield line.strip()\n",
        "\n",
        "# Example usage (if a file exists):\n",
        "# for line in read_file_lines(\"sample.txt\"):\n",
        "#     print(line)\n",
        "\n",
        "\n",
        "# 8. Lambda function to sort tuples based on the second element\n",
        "tuples_list = [(1, 3), (4, 2), (2, 5), (3, 1)]\n",
        "sorted_list = sorted(tuples_list, key=lambda x: x[1])\n",
        "print(sorted_list)  # Output: [(3, 1), (4, 2), (1, 3), (2, 5)]\n",
        "\n",
        "\n",
        "# 9. Using map() to convert Celsius to Fahrenheit\n",
        "celsius = [0, 20, 37, 100]\n",
        "fahrenheit = list(map(lambda c: (c * 9/5) + 32, celsius))\n",
        "print(fahrenheit)  # Output: [32.0, 68.0, 98.6, 212.0]\n",
        "\n",
        "\n",
        "# 10. Using filter() to remove vowels from a string\n",
        "def remove_vowels(s):\n",
        "    return ''.join(filter(lambda ch: ch.lower() not in 'aeiou', s))\n",
        "\n",
        "print(remove_vowels(\"Hello World\"))  # Output: \"Hll Wrld\"\n",
        "\n",
        "#11 # Given book orders data\n",
        "orders = [\n",
        "    (34587, \"Learning Python, Mark Lutz\", 4, 40.95),\n",
        "    (98762, \"Programming Python, Mark Lutz\", 5, 56.80),\n",
        "    (77226, \"Head First Python, Paul Barry\", 3, 32.95),\n",
        "    (88111, \"Einführung in Python3, Bernd Klein\", 3, 24.99)\n",
        "]\n",
        "\n",
        "# Using lambda and map to process the orders\n",
        "result = list(map(lambda x: (x[0], x[2] * x[3] if x[2] * x[3] >= 100 else x[2] * x[3] + 10), orders))\n",
        "\n",
        "# Print the result\n",
        "print(result)\n"
      ]
    },
    {
      "cell_type": "code",
      "source": [],
      "metadata": {
        "id": "YLvBu-nJ-wAh"
      },
      "execution_count": null,
      "outputs": []
    }
  ]
}